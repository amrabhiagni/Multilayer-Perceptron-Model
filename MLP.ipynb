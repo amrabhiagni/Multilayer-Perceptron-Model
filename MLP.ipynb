{
  "nbformat": 4,
  "nbformat_minor": 0,
  "metadata": {
    "colab": {
      "name": "MLP.ipynb",
      "provenance": [],
      "collapsed_sections": [],
      "toc_visible": true
    },
    "kernelspec": {
      "name": "python3",
      "display_name": "Python 3"
    }
  },
  "cells": [
    {
      "cell_type": "code",
      "metadata": {
        "id": "AD-M1kRpGrVw",
        "colab_type": "code",
        "colab": {
          "base_uri": "https://localhost:8080/",
          "height": 81
        },
        "outputId": "afd04d73-3917-4ca4-b5df-ec3dff4c25a5"
      },
      "source": [
        "import pandas as pd\n",
        "import numpy as np\n",
        "import keras\n",
        "from keras.models import Sequential\n",
        "from sklearn.model_selection import train_test_split\n",
        "from keras.layers import Dense\n",
        "import matplotlib.pyplot as plt"
      ],
      "execution_count": 1,
      "outputs": [
        {
          "output_type": "stream",
          "text": [
            "Using TensorFlow backend.\n"
          ],
          "name": "stderr"
        },
        {
          "output_type": "display_data",
          "data": {
            "text/html": [
              "<p style=\"color: red;\">\n",
              "The default version of TensorFlow in Colab will soon switch to TensorFlow 2.x.<br>\n",
              "We recommend you <a href=\"https://www.tensorflow.org/guide/migrate\" target=\"_blank\">upgrade</a> now \n",
              "or ensure your notebook will continue to use TensorFlow 1.x via the <code>%tensorflow_version 1.x</code> magic:\n",
              "<a href=\"https://colab.research.google.com/notebooks/tensorflow_version.ipynb\" target=\"_blank\">more info</a>.</p>\n"
            ],
            "text/plain": [
              "<IPython.core.display.HTML object>"
            ]
          },
          "metadata": {
            "tags": []
          }
        }
      ]
    },
    {
      "cell_type": "markdown",
      "metadata": {
        "id": "r-IiShEaPopz",
        "colab_type": "text"
      },
      "source": [
        "#read data from CSV file"
      ]
    },
    {
      "cell_type": "code",
      "metadata": {
        "id": "-_HQrC3VPn-m",
        "colab_type": "code",
        "colab": {}
      },
      "source": [
        "data = pd.read_csv('/content/musk_csv.csv').values"
      ],
      "execution_count": 0,
      "outputs": []
    },
    {
      "cell_type": "code",
      "metadata": {
        "id": "D-5Fc9-hHLQ6",
        "colab_type": "code",
        "colab": {}
      },
      "source": [
        "X = np.array(data[:,3:-1])\n",
        "Y = data[:,-1]"
      ],
      "execution_count": 0,
      "outputs": []
    },
    {
      "cell_type": "code",
      "metadata": {
        "id": "ZFIpr9gHHMUa",
        "colab_type": "code",
        "colab": {}
      },
      "source": [
        "### one hot encoding\n",
        "temp = []\n",
        "for cls in Y:\n",
        "  if cls==0:\n",
        "    temp.append([0,1])\n",
        "  else:\n",
        "    temp.append([1,0])\n",
        "Y = np.array(temp)\n",
        "del temp"
      ],
      "execution_count": 0,
      "outputs": []
    },
    {
      "cell_type": "code",
      "metadata": {
        "id": "11ASNHfQKapy",
        "colab_type": "code",
        "colab": {}
      },
      "source": [
        "feature_vector_length = len(X[0])   #### 166\n",
        "num_classes = len(Y[0]) #### 2  for this data"
      ],
      "execution_count": 0,
      "outputs": []
    },
    {
      "cell_type": "markdown",
      "metadata": {
        "id": "oRJ7orzzNeYJ",
        "colab_type": "text"
      },
      "source": [
        "# normalize data"
      ]
    },
    {
      "cell_type": "code",
      "metadata": {
        "id": "nkCOp8XYMjkQ",
        "colab_type": "code",
        "colab": {}
      },
      "source": [
        "from sklearn.preprocessing import MinMaxScaler\n",
        "scaler = MinMaxScaler(feature_range=(-1,1))\n",
        "scaler.fit(X)\n",
        "X = scaler.transform(X)"
      ],
      "execution_count": 0,
      "outputs": []
    },
    {
      "cell_type": "code",
      "metadata": {
        "id": "eYbV85qiQjFa",
        "colab_type": "code",
        "colab": {}
      },
      "source": [
        "X_train, X_test, Y_train, Y_test = train_test_split(X, Y, test_size=0.20, shuffle=True)"
      ],
      "execution_count": 0,
      "outputs": []
    },
    {
      "cell_type": "markdown",
      "metadata": {
        "id": "VZTDgVgGPsVR",
        "colab_type": "text"
      },
      "source": [
        "#Model"
      ]
    },
    {
      "cell_type": "code",
      "metadata": {
        "id": "EC1bpIdFJ7UU",
        "colab_type": "code",
        "colab": {
          "base_uri": "https://localhost:8080/",
          "height": 214
        },
        "outputId": "5c03c678-6c06-47a6-f1ba-fc0fd050d9ab"
      },
      "source": [
        "model = Sequential()\n",
        "model.add(Dense(300, input_shape= (feature_vector_length,), activation='relu'))\n",
        "model.add(Dense(50, activation='relu'))\n",
        "model.add(Dense(num_classes, activation='softmax'))\n",
        "\n",
        "model.compile(loss='categorical_crossentropy', optimizer='adam', metrics=['accuracy'])"
      ],
      "execution_count": 8,
      "outputs": [
        {
          "output_type": "stream",
          "text": [
            "WARNING:tensorflow:From /usr/local/lib/python3.6/dist-packages/keras/backend/tensorflow_backend.py:66: The name tf.get_default_graph is deprecated. Please use tf.compat.v1.get_default_graph instead.\n",
            "\n",
            "WARNING:tensorflow:From /usr/local/lib/python3.6/dist-packages/keras/backend/tensorflow_backend.py:541: The name tf.placeholder is deprecated. Please use tf.compat.v1.placeholder instead.\n",
            "\n",
            "WARNING:tensorflow:From /usr/local/lib/python3.6/dist-packages/keras/backend/tensorflow_backend.py:4432: The name tf.random_uniform is deprecated. Please use tf.random.uniform instead.\n",
            "\n",
            "WARNING:tensorflow:From /usr/local/lib/python3.6/dist-packages/keras/optimizers.py:793: The name tf.train.Optimizer is deprecated. Please use tf.compat.v1.train.Optimizer instead.\n",
            "\n",
            "WARNING:tensorflow:From /usr/local/lib/python3.6/dist-packages/keras/backend/tensorflow_backend.py:3576: The name tf.log is deprecated. Please use tf.math.log instead.\n",
            "\n"
          ],
          "name": "stdout"
        }
      ]
    },
    {
      "cell_type": "code",
      "metadata": {
        "id": "FgeGBHXQXtqq",
        "colab_type": "code",
        "colab": {
          "base_uri": "https://localhost:8080/",
          "height": 283
        },
        "outputId": "a92ed1e9-3824-4016-a67c-81a35dbabfe0"
      },
      "source": [
        "print(model.summary())"
      ],
      "execution_count": 15,
      "outputs": [
        {
          "output_type": "stream",
          "text": [
            "Model: \"sequential_1\"\n",
            "_________________________________________________________________\n",
            "Layer (type)                 Output Shape              Param #   \n",
            "=================================================================\n",
            "dense_1 (Dense)              (None, 300)               50100     \n",
            "_________________________________________________________________\n",
            "dense_2 (Dense)              (None, 50)                15050     \n",
            "_________________________________________________________________\n",
            "dense_3 (Dense)              (None, 2)                 102       \n",
            "=================================================================\n",
            "Total params: 65,252\n",
            "Trainable params: 65,252\n",
            "Non-trainable params: 0\n",
            "_________________________________________________________________\n",
            "None\n"
          ],
          "name": "stdout"
        }
      ]
    },
    {
      "cell_type": "markdown",
      "metadata": {
        "id": "zRRrNRUmPwa0",
        "colab_type": "text"
      },
      "source": [
        "# Train Model"
      ]
    },
    {
      "cell_type": "code",
      "metadata": {
        "id": "DelUxAhVKP8H",
        "colab_type": "code",
        "colab": {
          "base_uri": "https://localhost:8080/",
          "height": 1000
        },
        "outputId": "989f982d-efa4-4843-d282-121243fe5072"
      },
      "source": [
        "history = model.fit(X_train, Y_train, epochs=50, validation_data=(X_test,Y_test), batch_size=1000)"
      ],
      "execution_count": 9,
      "outputs": [
        {
          "output_type": "stream",
          "text": [
            "WARNING:tensorflow:From /usr/local/lib/python3.6/dist-packages/tensorflow_core/python/ops/math_grad.py:1424: where (from tensorflow.python.ops.array_ops) is deprecated and will be removed in a future version.\n",
            "Instructions for updating:\n",
            "Use tf.where in 2.0, which has the same broadcast rule as np.where\n",
            "WARNING:tensorflow:From /usr/local/lib/python3.6/dist-packages/keras/backend/tensorflow_backend.py:1033: The name tf.assign_add is deprecated. Please use tf.compat.v1.assign_add instead.\n",
            "\n",
            "WARNING:tensorflow:From /usr/local/lib/python3.6/dist-packages/keras/backend/tensorflow_backend.py:1020: The name tf.assign is deprecated. Please use tf.compat.v1.assign instead.\n",
            "\n",
            "WARNING:tensorflow:From /usr/local/lib/python3.6/dist-packages/keras/backend/tensorflow_backend.py:3005: The name tf.Session is deprecated. Please use tf.compat.v1.Session instead.\n",
            "\n",
            "Train on 5278 samples, validate on 1320 samples\n",
            "Epoch 1/50\n",
            "WARNING:tensorflow:From /usr/local/lib/python3.6/dist-packages/keras/backend/tensorflow_backend.py:190: The name tf.get_default_session is deprecated. Please use tf.compat.v1.get_default_session instead.\n",
            "\n",
            "WARNING:tensorflow:From /usr/local/lib/python3.6/dist-packages/keras/backend/tensorflow_backend.py:197: The name tf.ConfigProto is deprecated. Please use tf.compat.v1.ConfigProto instead.\n",
            "\n",
            "WARNING:tensorflow:From /usr/local/lib/python3.6/dist-packages/keras/backend/tensorflow_backend.py:207: The name tf.global_variables is deprecated. Please use tf.compat.v1.global_variables instead.\n",
            "\n",
            "WARNING:tensorflow:From /usr/local/lib/python3.6/dist-packages/keras/backend/tensorflow_backend.py:216: The name tf.is_variable_initialized is deprecated. Please use tf.compat.v1.is_variable_initialized instead.\n",
            "\n",
            "WARNING:tensorflow:From /usr/local/lib/python3.6/dist-packages/keras/backend/tensorflow_backend.py:223: The name tf.variables_initializer is deprecated. Please use tf.compat.v1.variables_initializer instead.\n",
            "\n",
            "5278/5278 [==============================] - 1s 152us/step - loss: 0.4760 - acc: 0.8208 - val_loss: 0.3844 - val_acc: 0.8462\n",
            "Epoch 2/50\n",
            "5278/5278 [==============================] - 0s 18us/step - loss: 0.3539 - acc: 0.8666 - val_loss: 0.3109 - val_acc: 0.8894\n",
            "Epoch 3/50\n",
            "5278/5278 [==============================] - 0s 17us/step - loss: 0.2869 - acc: 0.8793 - val_loss: 0.2652 - val_acc: 0.8644\n",
            "Epoch 4/50\n",
            "5278/5278 [==============================] - 0s 19us/step - loss: 0.2430 - acc: 0.8962 - val_loss: 0.2186 - val_acc: 0.9197\n",
            "Epoch 5/50\n",
            "5278/5278 [==============================] - 0s 18us/step - loss: 0.2058 - acc: 0.9286 - val_loss: 0.1904 - val_acc: 0.9311\n",
            "Epoch 6/50\n",
            "5278/5278 [==============================] - 0s 18us/step - loss: 0.1794 - acc: 0.9362 - val_loss: 0.1706 - val_acc: 0.9333\n",
            "Epoch 7/50\n",
            "5278/5278 [==============================] - 0s 21us/step - loss: 0.1570 - acc: 0.9403 - val_loss: 0.1499 - val_acc: 0.9508\n",
            "Epoch 8/50\n",
            "5278/5278 [==============================] - 0s 20us/step - loss: 0.1389 - acc: 0.9532 - val_loss: 0.1404 - val_acc: 0.9447\n",
            "Epoch 9/50\n",
            "5278/5278 [==============================] - 0s 18us/step - loss: 0.1263 - acc: 0.9562 - val_loss: 0.1238 - val_acc: 0.9561\n",
            "Epoch 10/50\n",
            "5278/5278 [==============================] - 0s 18us/step - loss: 0.1151 - acc: 0.9623 - val_loss: 0.1126 - val_acc: 0.9591\n",
            "Epoch 11/50\n",
            "5278/5278 [==============================] - 0s 19us/step - loss: 0.1050 - acc: 0.9659 - val_loss: 0.1049 - val_acc: 0.9598\n",
            "Epoch 12/50\n",
            "5278/5278 [==============================] - 0s 21us/step - loss: 0.0987 - acc: 0.9680 - val_loss: 0.1003 - val_acc: 0.9636\n",
            "Epoch 13/50\n",
            "5278/5278 [==============================] - 0s 19us/step - loss: 0.0916 - acc: 0.9695 - val_loss: 0.0940 - val_acc: 0.9667\n",
            "Epoch 14/50\n",
            "5278/5278 [==============================] - 0s 19us/step - loss: 0.0864 - acc: 0.9703 - val_loss: 0.0877 - val_acc: 0.9705\n",
            "Epoch 15/50\n",
            "5278/5278 [==============================] - 0s 18us/step - loss: 0.0783 - acc: 0.9763 - val_loss: 0.0814 - val_acc: 0.9705\n",
            "Epoch 16/50\n",
            "5278/5278 [==============================] - 0s 18us/step - loss: 0.0736 - acc: 0.9767 - val_loss: 0.0762 - val_acc: 0.9765\n",
            "Epoch 17/50\n",
            "5278/5278 [==============================] - 0s 18us/step - loss: 0.0685 - acc: 0.9769 - val_loss: 0.0713 - val_acc: 0.9712\n",
            "Epoch 18/50\n",
            "5278/5278 [==============================] - 0s 19us/step - loss: 0.0632 - acc: 0.9805 - val_loss: 0.0663 - val_acc: 0.9780\n",
            "Epoch 19/50\n",
            "5278/5278 [==============================] - 0s 18us/step - loss: 0.0587 - acc: 0.9831 - val_loss: 0.0662 - val_acc: 0.9720\n",
            "Epoch 20/50\n",
            "5278/5278 [==============================] - 0s 19us/step - loss: 0.0558 - acc: 0.9833 - val_loss: 0.0588 - val_acc: 0.9795\n",
            "Epoch 21/50\n",
            "5278/5278 [==============================] - 0s 18us/step - loss: 0.0501 - acc: 0.9847 - val_loss: 0.0535 - val_acc: 0.9811\n",
            "Epoch 22/50\n",
            "5278/5278 [==============================] - 0s 18us/step - loss: 0.0479 - acc: 0.9847 - val_loss: 0.0551 - val_acc: 0.9818\n",
            "Epoch 23/50\n",
            "5278/5278 [==============================] - 0s 18us/step - loss: 0.0443 - acc: 0.9867 - val_loss: 0.0469 - val_acc: 0.9811\n",
            "Epoch 24/50\n",
            "5278/5278 [==============================] - 0s 18us/step - loss: 0.0408 - acc: 0.9883 - val_loss: 0.0468 - val_acc: 0.9826\n",
            "Epoch 25/50\n",
            "5278/5278 [==============================] - 0s 18us/step - loss: 0.0382 - acc: 0.9884 - val_loss: 0.0431 - val_acc: 0.9841\n",
            "Epoch 26/50\n",
            "5278/5278 [==============================] - 0s 18us/step - loss: 0.0359 - acc: 0.9898 - val_loss: 0.0450 - val_acc: 0.9818\n",
            "Epoch 27/50\n",
            "5278/5278 [==============================] - 0s 18us/step - loss: 0.0336 - acc: 0.9898 - val_loss: 0.0452 - val_acc: 0.9871\n",
            "Epoch 28/50\n",
            "5278/5278 [==============================] - 0s 18us/step - loss: 0.0333 - acc: 0.9896 - val_loss: 0.0371 - val_acc: 0.9856\n",
            "Epoch 29/50\n",
            "5278/5278 [==============================] - 0s 18us/step - loss: 0.0295 - acc: 0.9934 - val_loss: 0.0403 - val_acc: 0.9841\n",
            "Epoch 30/50\n",
            "5278/5278 [==============================] - 0s 18us/step - loss: 0.0309 - acc: 0.9892 - val_loss: 0.0371 - val_acc: 0.9886\n",
            "Epoch 31/50\n",
            "5278/5278 [==============================] - 0s 18us/step - loss: 0.0282 - acc: 0.9917 - val_loss: 0.0333 - val_acc: 0.9894\n",
            "Epoch 32/50\n",
            "5278/5278 [==============================] - 0s 18us/step - loss: 0.0244 - acc: 0.9930 - val_loss: 0.0314 - val_acc: 0.9886\n",
            "Epoch 33/50\n",
            "5278/5278 [==============================] - 0s 18us/step - loss: 0.0236 - acc: 0.9945 - val_loss: 0.0298 - val_acc: 0.9886\n",
            "Epoch 34/50\n",
            "5278/5278 [==============================] - 0s 18us/step - loss: 0.0198 - acc: 0.9977 - val_loss: 0.0262 - val_acc: 0.9886\n",
            "Epoch 35/50\n",
            "5278/5278 [==============================] - 0s 19us/step - loss: 0.0186 - acc: 0.9945 - val_loss: 0.0234 - val_acc: 0.9939\n",
            "Epoch 36/50\n",
            "5278/5278 [==============================] - 0s 18us/step - loss: 0.0169 - acc: 0.9964 - val_loss: 0.0225 - val_acc: 0.9962\n",
            "Epoch 37/50\n",
            "5278/5278 [==============================] - 0s 19us/step - loss: 0.0158 - acc: 0.9981 - val_loss: 0.0222 - val_acc: 0.9902\n",
            "Epoch 38/50\n",
            "5278/5278 [==============================] - 0s 18us/step - loss: 0.0136 - acc: 0.9987 - val_loss: 0.0203 - val_acc: 0.9917\n",
            "Epoch 39/50\n",
            "5278/5278 [==============================] - 0s 18us/step - loss: 0.0123 - acc: 0.9991 - val_loss: 0.0195 - val_acc: 0.9924\n",
            "Epoch 40/50\n",
            "5278/5278 [==============================] - 0s 19us/step - loss: 0.0112 - acc: 0.9991 - val_loss: 0.0186 - val_acc: 0.9939\n",
            "Epoch 41/50\n",
            "5278/5278 [==============================] - 0s 19us/step - loss: 0.0104 - acc: 0.9992 - val_loss: 0.0178 - val_acc: 0.9932\n",
            "Epoch 42/50\n",
            "5278/5278 [==============================] - 0s 19us/step - loss: 0.0098 - acc: 0.9992 - val_loss: 0.0168 - val_acc: 0.9955\n",
            "Epoch 43/50\n",
            "5278/5278 [==============================] - 0s 18us/step - loss: 0.0089 - acc: 0.9996 - val_loss: 0.0162 - val_acc: 0.9970\n",
            "Epoch 44/50\n",
            "5278/5278 [==============================] - 0s 18us/step - loss: 0.0085 - acc: 0.9998 - val_loss: 0.0150 - val_acc: 0.9947\n",
            "Epoch 45/50\n",
            "5278/5278 [==============================] - 0s 18us/step - loss: 0.0079 - acc: 0.9996 - val_loss: 0.0160 - val_acc: 0.9939\n",
            "Epoch 46/50\n",
            "5278/5278 [==============================] - 0s 21us/step - loss: 0.0074 - acc: 0.9998 - val_loss: 0.0139 - val_acc: 0.9962\n",
            "Epoch 47/50\n",
            "5278/5278 [==============================] - 0s 19us/step - loss: 0.0067 - acc: 1.0000 - val_loss: 0.0140 - val_acc: 0.9947\n",
            "Epoch 48/50\n",
            "5278/5278 [==============================] - 0s 19us/step - loss: 0.0065 - acc: 0.9994 - val_loss: 0.0137 - val_acc: 0.9947\n",
            "Epoch 49/50\n",
            "5278/5278 [==============================] - 0s 17us/step - loss: 0.0059 - acc: 0.9998 - val_loss: 0.0129 - val_acc: 0.9962\n",
            "Epoch 50/50\n",
            "5278/5278 [==============================] - 0s 20us/step - loss: 0.0056 - acc: 1.0000 - val_loss: 0.0121 - val_acc: 0.9947\n"
          ],
          "name": "stdout"
        }
      ]
    },
    {
      "cell_type": "markdown",
      "metadata": {
        "id": "SlOLSretPzPJ",
        "colab_type": "text"
      },
      "source": [
        "# plot accuracy curves"
      ]
    },
    {
      "cell_type": "code",
      "metadata": {
        "id": "MNsISlsOOG95",
        "colab_type": "code",
        "colab": {
          "base_uri": "https://localhost:8080/",
          "height": 294
        },
        "outputId": "33a3034c-47b7-49fd-c9bc-18e2d761a6c9"
      },
      "source": [
        "plt.plot(history.history['acc'])\n",
        "plt.plot(history.history['val_acc'])\n",
        "plt.title('model accuracy')\n",
        "plt.ylabel('accuracy')\n",
        "plt.xlabel('epoch')\n",
        "plt.legend(['train', 'test'])\n",
        "plt.savefig('Accuracy.png')\n",
        "plt.show()"
      ],
      "execution_count": 10,
      "outputs": [
        {
          "output_type": "display_data",
          "data": {
            "image/png": "[encoded data removed]",
            "text/plain": [
              "<Figure size 432x288 with 1 Axes>"
            ]
          },
          "metadata": {
            "tags": []
          }
        }
      ]
    },
    {
      "cell_type": "code",
      "metadata": {
        "id": "eeKuFXMlOKYX",
        "colab_type": "code",
        "colab": {
          "base_uri": "https://localhost:8080/",
          "height": 294
        },
        "outputId": "70cbdbe3-0cc1-40b8-9f0b-160cc8fc0db2"
      },
      "source": [
        "plt.plot(history.history['loss'])\n",
        "plt.plot(history.history['val_loss'])\n",
        "plt.title('model loss')\n",
        "plt.ylabel('loss')\n",
        "plt.xlabel('epoch')\n",
        "plt.legend(['train', 'test'])\n",
        "plt.savefig('loss.png')\n",
        "plt.show()"
      ],
      "execution_count": 11,
      "outputs": [
        {
          "output_type": "display_data",
          "data": {
            "image/png": "[encoded data removed]",
            "text/plain": [
              "<Figure size 432x288 with 1 Axes>"
            ]
          },
          "metadata": {
            "tags": []
          }
        }
      ]
    },
    {
      "cell_type": "code",
      "metadata": {
        "id": "lhnjuiojOaqX",
        "colab_type": "code",
        "colab": {
          "base_uri": "https://localhost:8080/",
          "height": 194
        },
        "outputId": "7b0c2337-81f3-4385-d5a4-4ac1dfe8fcae"
      },
      "source": [
        "from sklearn.metrics import classification_report\n",
        "\n",
        "Y_pred = model.predict(X_test, batch_size=64, verbose=1)\n",
        "Y_pred_bool = np.argmax(Y_pred, axis=1)\n",
        "\n",
        "print(classification_report(np.argmax(Y_test,axis=1), Y_pred_bool))"
      ],
      "execution_count": 12,
      "outputs": [
        {
          "output_type": "stream",
          "text": [
            "1320/1320 [==============================] - 0s 42us/step\n",
            "              precision    recall  f1-score   support\n",
            "\n",
            "           0       0.99      0.98      0.98       203\n",
            "           1       1.00      1.00      1.00      1117\n",
            "\n",
            "    accuracy                           0.99      1320\n",
            "   macro avg       0.99      0.99      0.99      1320\n",
            "weighted avg       0.99      0.99      0.99      1320\n",
            "\n"
          ],
          "name": "stdout"
        }
      ]
    },
    {
      "cell_type": "code",
      "metadata": {
        "id": "H5nhEGRFR-ql",
        "colab_type": "code",
        "colab": {}
      },
      "source": [
        "model.save('model.h5')"
      ],
      "execution_count": 0,
      "outputs": []
    }
  ]
}